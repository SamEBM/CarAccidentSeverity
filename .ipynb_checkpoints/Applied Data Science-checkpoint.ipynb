{
 "cells": [
  {
   "cell_type": "markdown",
   "metadata": {},
   "source": [
    "# Capstone Project: Car Accident Severity\n",
    "**Hello Capstone Project Course!**\n",
    "\n",
    "Final module of IBM Specialization course in Data Science.\n",
    "<img src=\"./crashOK.jpg\" />"
   ]
  },
  {
   "cell_type": "markdown",
   "metadata": {},
   "source": [
    "## Table of contents\n",
    "* [Introduction](#introduction) \n",
    "* [Business Problem](#bussiness)\n",
    "* [Data](#data)\n",
    "* [Methodology](#methodology)\n",
    "* [Analysis](#analysis)\n",
    "* [Results and Discussion](#results)\n",
    "* [Conclusion](#conclusion)"
   ]
  },
  {
   "cell_type": "markdown",
   "metadata": {},
   "source": [
    "# Introduction <a name=\"introduction\"></a>\n",
    "<hr style=\"border:2px solid gray\"> </hr>\n",
    "\n",
    "> For this notebook, I am going to explore, use and create a model based on the [Seattle accident dataset](https://s3.us.cloud-object-storage.appdomain.cloud/cf-courses-data/CognitiveClass/DP0701EN/version-2/Data-Collisions.csv \"Click to download\"). \n",
    "You can also see the Metadata [here](https://s3.us.cloud-object-storage.appdomain.cloud/cf-courses-data/CognitiveClass/DP0701EN/version-2/Metadata.pdf).\n",
    "As it is a labeled dataset, I am going to use **Supervised Machine Learning**. Also this work is based on the Cross-industry standard process for data mining (CRISP-DM) and its six stages:\n",
    "- Bussiness Understanding\n",
    "- Data Understanding\n",
    "- Data Preparation and Cleaning\n",
    "- Modeling\n",
    "- Evaluation\n",
    "- Deployment\n",
    "\n",
    "<div class=\"alert alert-block alert-warning\">\n",
    "<b>Example:</b> Use yellow boxes for examples that are not \n",
    "inside code cells, or use for mathematical formulas if needed.\n",
    "</div>"
   ]
  },
  {
   "cell_type": "markdown",
   "metadata": {},
   "source": [
    "# Business Problem <a name=\"bussiness\"></a>\n",
    "<hr style=\"border:2px solid gray\"> </hr>\n",
    "\n",
    "> Today, having a vehicle is practically a basic necessity for people anywhere in the world. However, due to the large number of people, means of transport and different climatic or circumstantial factors, road accidents are part of the day to day in cities around the world. For this reason, it is important for any driver to be able to avoid an accident, especially those of high severity, which can result in a catastrophic end. \n",
    "\n",
    "> Being able to predict the severity or probability of an accident is highly useful for the well-being of any driver or pedestrian. This would undoubtedly help all drivers to have a greater perspective on possible accidents and thus make the best decision about whether to drive, not drive or do it safely."
   ]
  },
  {
   "cell_type": "markdown",
   "metadata": {},
   "source": [
    "# Data <a name=\"data\"></a>\n",
    "<hr style=\"border:2px solid gray\"> </hr>\n",
    "\n",
    "> For the analysis and the creation of a predictive model using supervised machine learning, the [Seattle Dataset](https://s3.us.cloud-object-storage.appdomain.cloud/cf-courses-data/CognitiveClass/DP0701EN/version-2/Metadata.pdf). mencioned at the Introduction with the reports of road accidents (collisions) will be used, where 'SEVERITYCODE' will be the target variable to predict.\n",
    "First, the information will be analyzed to determine which of the attributes have the greatest correlation with the target variable, among which are probably: 'ROADCOND', 'SPEEDING', 'WEATHER', 'COLLISIONTYPE', and some others. Once identified, the data will be cleaned up based on data visualization for modeling.   \n",
    "\n",
    "> The main objective is to identify the severity or probability of a possible accident, so this work can be useful for anyone interested in assessing risks while driving, the traffic control departments or simply for anyone who drives a vehicle."
   ]
  },
  {
   "cell_type": "markdown",
   "metadata": {},
   "source": []
  },
  {
   "cell_type": "markdown",
   "metadata": {},
   "source": [
    "First, lets import all the required libraries:"
   ]
  },
  {
   "cell_type": "code",
   "execution_count": 1,
   "metadata": {},
   "outputs": [],
   "source": [
    "import itertools\n",
    "import numpy as np\n",
    "import matplotlib.pyplot as plt\n",
    "import pandas as pd\n",
    "import numpy as np\n",
    "import seaborn as sns\n",
    "from sklearn import preprocessing\n",
    "%matplotlib inline"
   ]
  },
  {
   "cell_type": "code",
   "execution_count": 2,
   "metadata": {},
   "outputs": [],
   "source": [
    "# ! pip install missingno"
   ]
  },
  {
   "cell_type": "markdown",
   "metadata": {},
   "source": [
    "# Methodology <a name=\"methodology\"></a>\n",
    "<hr style=\"border:2px solid gray\"> </hr>"
   ]
  },
  {
   "cell_type": "markdown",
   "metadata": {},
   "source": [
    "### Exploring Data"
   ]
  },
  {
   "cell_type": "markdown",
   "metadata": {},
   "source": [
    "Load Data From CSV File"
   ]
  },
  {
   "cell_type": "code",
   "execution_count": 3,
   "metadata": {
    "scrolled": true
   },
   "outputs": [
    {
     "name": "stderr",
     "output_type": "stream",
     "text": [
      "C:\\Users\\Samuel EBM\\anaconda3\\lib\\site-packages\\IPython\\core\\interactiveshell.py:3063: DtypeWarning: Columns (33) have mixed types.Specify dtype option on import or set low_memory=False.\n",
      "  interactivity=interactivity, compiler=compiler, result=result)\n"
     ]
    },
    {
     "data": {
      "text/html": [
       "<div>\n",
       "<style scoped>\n",
       "    .dataframe tbody tr th:only-of-type {\n",
       "        vertical-align: middle;\n",
       "    }\n",
       "\n",
       "    .dataframe tbody tr th {\n",
       "        vertical-align: top;\n",
       "    }\n",
       "\n",
       "    .dataframe thead th {\n",
       "        text-align: right;\n",
       "    }\n",
       "</style>\n",
       "<table border=\"1\" class=\"dataframe\">\n",
       "  <thead>\n",
       "    <tr style=\"text-align: right;\">\n",
       "      <th></th>\n",
       "      <th>SEVERITYCODE</th>\n",
       "      <th>X</th>\n",
       "      <th>Y</th>\n",
       "      <th>OBJECTID</th>\n",
       "      <th>INCKEY</th>\n",
       "      <th>COLDETKEY</th>\n",
       "      <th>REPORTNO</th>\n",
       "      <th>STATUS</th>\n",
       "      <th>ADDRTYPE</th>\n",
       "      <th>INTKEY</th>\n",
       "      <th>...</th>\n",
       "      <th>ROADCOND</th>\n",
       "      <th>LIGHTCOND</th>\n",
       "      <th>PEDROWNOTGRNT</th>\n",
       "      <th>SDOTCOLNUM</th>\n",
       "      <th>SPEEDING</th>\n",
       "      <th>ST_COLCODE</th>\n",
       "      <th>ST_COLDESC</th>\n",
       "      <th>SEGLANEKEY</th>\n",
       "      <th>CROSSWALKKEY</th>\n",
       "      <th>HITPARKEDCAR</th>\n",
       "    </tr>\n",
       "  </thead>\n",
       "  <tbody>\n",
       "    <tr>\n",
       "      <th>0</th>\n",
       "      <td>2</td>\n",
       "      <td>-122.323148</td>\n",
       "      <td>47.703140</td>\n",
       "      <td>1</td>\n",
       "      <td>1307</td>\n",
       "      <td>1307</td>\n",
       "      <td>3502005</td>\n",
       "      <td>Matched</td>\n",
       "      <td>Intersection</td>\n",
       "      <td>37475.0</td>\n",
       "      <td>...</td>\n",
       "      <td>Wet</td>\n",
       "      <td>Daylight</td>\n",
       "      <td>NaN</td>\n",
       "      <td>NaN</td>\n",
       "      <td>NaN</td>\n",
       "      <td>10</td>\n",
       "      <td>Entering at angle</td>\n",
       "      <td>0</td>\n",
       "      <td>0</td>\n",
       "      <td>N</td>\n",
       "    </tr>\n",
       "    <tr>\n",
       "      <th>1</th>\n",
       "      <td>1</td>\n",
       "      <td>-122.347294</td>\n",
       "      <td>47.647172</td>\n",
       "      <td>2</td>\n",
       "      <td>52200</td>\n",
       "      <td>52200</td>\n",
       "      <td>2607959</td>\n",
       "      <td>Matched</td>\n",
       "      <td>Block</td>\n",
       "      <td>NaN</td>\n",
       "      <td>...</td>\n",
       "      <td>Wet</td>\n",
       "      <td>Dark - Street Lights On</td>\n",
       "      <td>NaN</td>\n",
       "      <td>6354039.0</td>\n",
       "      <td>NaN</td>\n",
       "      <td>11</td>\n",
       "      <td>From same direction - both going straight - bo...</td>\n",
       "      <td>0</td>\n",
       "      <td>0</td>\n",
       "      <td>N</td>\n",
       "    </tr>\n",
       "    <tr>\n",
       "      <th>2</th>\n",
       "      <td>1</td>\n",
       "      <td>-122.334540</td>\n",
       "      <td>47.607871</td>\n",
       "      <td>3</td>\n",
       "      <td>26700</td>\n",
       "      <td>26700</td>\n",
       "      <td>1482393</td>\n",
       "      <td>Matched</td>\n",
       "      <td>Block</td>\n",
       "      <td>NaN</td>\n",
       "      <td>...</td>\n",
       "      <td>Dry</td>\n",
       "      <td>Daylight</td>\n",
       "      <td>NaN</td>\n",
       "      <td>4323031.0</td>\n",
       "      <td>NaN</td>\n",
       "      <td>32</td>\n",
       "      <td>One parked--one moving</td>\n",
       "      <td>0</td>\n",
       "      <td>0</td>\n",
       "      <td>N</td>\n",
       "    </tr>\n",
       "    <tr>\n",
       "      <th>3</th>\n",
       "      <td>1</td>\n",
       "      <td>-122.334803</td>\n",
       "      <td>47.604803</td>\n",
       "      <td>4</td>\n",
       "      <td>1144</td>\n",
       "      <td>1144</td>\n",
       "      <td>3503937</td>\n",
       "      <td>Matched</td>\n",
       "      <td>Block</td>\n",
       "      <td>NaN</td>\n",
       "      <td>...</td>\n",
       "      <td>Dry</td>\n",
       "      <td>Daylight</td>\n",
       "      <td>NaN</td>\n",
       "      <td>NaN</td>\n",
       "      <td>NaN</td>\n",
       "      <td>23</td>\n",
       "      <td>From same direction - all others</td>\n",
       "      <td>0</td>\n",
       "      <td>0</td>\n",
       "      <td>N</td>\n",
       "    </tr>\n",
       "    <tr>\n",
       "      <th>4</th>\n",
       "      <td>2</td>\n",
       "      <td>-122.306426</td>\n",
       "      <td>47.545739</td>\n",
       "      <td>5</td>\n",
       "      <td>17700</td>\n",
       "      <td>17700</td>\n",
       "      <td>1807429</td>\n",
       "      <td>Matched</td>\n",
       "      <td>Intersection</td>\n",
       "      <td>34387.0</td>\n",
       "      <td>...</td>\n",
       "      <td>Wet</td>\n",
       "      <td>Daylight</td>\n",
       "      <td>NaN</td>\n",
       "      <td>4028032.0</td>\n",
       "      <td>NaN</td>\n",
       "      <td>10</td>\n",
       "      <td>Entering at angle</td>\n",
       "      <td>0</td>\n",
       "      <td>0</td>\n",
       "      <td>N</td>\n",
       "    </tr>\n",
       "  </tbody>\n",
       "</table>\n",
       "<p>5 rows × 38 columns</p>\n",
       "</div>"
      ],
      "text/plain": [
       "   SEVERITYCODE           X          Y  OBJECTID  INCKEY  COLDETKEY REPORTNO  \\\n",
       "0             2 -122.323148  47.703140         1    1307       1307  3502005   \n",
       "1             1 -122.347294  47.647172         2   52200      52200  2607959   \n",
       "2             1 -122.334540  47.607871         3   26700      26700  1482393   \n",
       "3             1 -122.334803  47.604803         4    1144       1144  3503937   \n",
       "4             2 -122.306426  47.545739         5   17700      17700  1807429   \n",
       "\n",
       "    STATUS      ADDRTYPE   INTKEY  ... ROADCOND                LIGHTCOND  \\\n",
       "0  Matched  Intersection  37475.0  ...      Wet                 Daylight   \n",
       "1  Matched         Block      NaN  ...      Wet  Dark - Street Lights On   \n",
       "2  Matched         Block      NaN  ...      Dry                 Daylight   \n",
       "3  Matched         Block      NaN  ...      Dry                 Daylight   \n",
       "4  Matched  Intersection  34387.0  ...      Wet                 Daylight   \n",
       "\n",
       "  PEDROWNOTGRNT  SDOTCOLNUM SPEEDING ST_COLCODE  \\\n",
       "0           NaN         NaN      NaN         10   \n",
       "1           NaN   6354039.0      NaN         11   \n",
       "2           NaN   4323031.0      NaN         32   \n",
       "3           NaN         NaN      NaN         23   \n",
       "4           NaN   4028032.0      NaN         10   \n",
       "\n",
       "                                          ST_COLDESC  SEGLANEKEY  \\\n",
       "0                                  Entering at angle           0   \n",
       "1  From same direction - both going straight - bo...           0   \n",
       "2                             One parked--one moving           0   \n",
       "3                   From same direction - all others           0   \n",
       "4                                  Entering at angle           0   \n",
       "\n",
       "   CROSSWALKKEY  HITPARKEDCAR  \n",
       "0             0             N  \n",
       "1             0             N  \n",
       "2             0             N  \n",
       "3             0             N  \n",
       "4             0             N  \n",
       "\n",
       "[5 rows x 38 columns]"
      ]
     },
     "execution_count": 3,
     "metadata": {},
     "output_type": "execute_result"
    }
   ],
   "source": [
    "df = pd.read_csv('Data-Collisions.csv')\n",
    "df.head()"
   ]
  },
  {
   "cell_type": "markdown",
   "metadata": {},
   "source": [
    "**Target variable values**"
   ]
  },
  {
   "cell_type": "code",
   "execution_count": 4,
   "metadata": {
    "scrolled": false
   },
   "outputs": [
    {
     "data": {
      "text/plain": [
       "1    136485\n",
       "2     58188\n",
       "Name: SEVERITYCODE, dtype: int64"
      ]
     },
     "execution_count": 4,
     "metadata": {},
     "output_type": "execute_result"
    }
   ],
   "source": [
    "df['SEVERITYCODE'].value_counts()"
   ]
  },
  {
   "cell_type": "markdown",
   "metadata": {},
   "source": [
    "### Data Preprocessing"
   ]
  },
  {
   "cell_type": "markdown",
   "metadata": {},
   "source": [
    "**Identify missing data and data types**"
   ]
  },
  {
   "cell_type": "code",
   "execution_count": 5,
   "metadata": {},
   "outputs": [
    {
     "name": "stdout",
     "output_type": "stream",
     "text": [
      "SEVERITYCODE\n",
      "False    194673\n",
      "Name: SEVERITYCODE, dtype: int64\n",
      "\n",
      "X\n",
      "False    189339\n",
      "True       5334\n",
      "Name: X, dtype: int64\n",
      "\n",
      "Y\n",
      "False    189339\n",
      "True       5334\n",
      "Name: Y, dtype: int64\n",
      "\n",
      "OBJECTID\n",
      "False    194673\n",
      "Name: OBJECTID, dtype: int64\n",
      "\n",
      "INCKEY\n",
      "False    194673\n",
      "Name: INCKEY, dtype: int64\n",
      "\n",
      "COLDETKEY\n",
      "False    194673\n",
      "Name: COLDETKEY, dtype: int64\n",
      "\n",
      "REPORTNO\n",
      "False    194673\n",
      "Name: REPORTNO, dtype: int64\n",
      "\n",
      "STATUS\n",
      "False    194673\n",
      "Name: STATUS, dtype: int64\n",
      "\n",
      "ADDRTYPE\n",
      "False    192747\n",
      "True       1926\n",
      "Name: ADDRTYPE, dtype: int64\n",
      "\n",
      "INTKEY\n",
      "True     129603\n",
      "False     65070\n",
      "Name: INTKEY, dtype: int64\n",
      "\n",
      "LOCATION\n",
      "False    191996\n",
      "True       2677\n",
      "Name: LOCATION, dtype: int64\n",
      "\n",
      "EXCEPTRSNCODE\n",
      "True     109862\n",
      "False     84811\n",
      "Name: EXCEPTRSNCODE, dtype: int64\n",
      "\n",
      "EXCEPTRSNDESC\n",
      "True     189035\n",
      "False      5638\n",
      "Name: EXCEPTRSNDESC, dtype: int64\n",
      "\n",
      "SEVERITYCODE.1\n",
      "False    194673\n",
      "Name: SEVERITYCODE.1, dtype: int64\n",
      "\n",
      "SEVERITYDESC\n",
      "False    194673\n",
      "Name: SEVERITYDESC, dtype: int64\n",
      "\n",
      "COLLISIONTYPE\n",
      "False    189769\n",
      "True       4904\n",
      "Name: COLLISIONTYPE, dtype: int64\n",
      "\n",
      "PERSONCOUNT\n",
      "False    194673\n",
      "Name: PERSONCOUNT, dtype: int64\n",
      "\n",
      "PEDCOUNT\n",
      "False    194673\n",
      "Name: PEDCOUNT, dtype: int64\n",
      "\n",
      "PEDCYLCOUNT\n",
      "False    194673\n",
      "Name: PEDCYLCOUNT, dtype: int64\n",
      "\n",
      "VEHCOUNT\n",
      "False    194673\n",
      "Name: VEHCOUNT, dtype: int64\n",
      "\n",
      "INCDATE\n",
      "False    194673\n",
      "Name: INCDATE, dtype: int64\n",
      "\n",
      "INCDTTM\n",
      "False    194673\n",
      "Name: INCDTTM, dtype: int64\n",
      "\n",
      "JUNCTIONTYPE\n",
      "False    188344\n",
      "True       6329\n",
      "Name: JUNCTIONTYPE, dtype: int64\n",
      "\n",
      "SDOT_COLCODE\n",
      "False    194673\n",
      "Name: SDOT_COLCODE, dtype: int64\n",
      "\n",
      "SDOT_COLDESC\n",
      "False    194673\n",
      "Name: SDOT_COLDESC, dtype: int64\n",
      "\n",
      "INATTENTIONIND\n",
      "True     164868\n",
      "False     29805\n",
      "Name: INATTENTIONIND, dtype: int64\n",
      "\n",
      "UNDERINFL\n",
      "False    189789\n",
      "True       4884\n",
      "Name: UNDERINFL, dtype: int64\n",
      "\n",
      "WEATHER\n",
      "False    189592\n",
      "True       5081\n",
      "Name: WEATHER, dtype: int64\n",
      "\n",
      "ROADCOND\n",
      "False    189661\n",
      "True       5012\n",
      "Name: ROADCOND, dtype: int64\n",
      "\n",
      "LIGHTCOND\n",
      "False    189503\n",
      "True       5170\n",
      "Name: LIGHTCOND, dtype: int64\n",
      "\n",
      "PEDROWNOTGRNT\n",
      "True     190006\n",
      "False      4667\n",
      "Name: PEDROWNOTGRNT, dtype: int64\n",
      "\n",
      "SDOTCOLNUM\n",
      "False    114936\n",
      "True      79737\n",
      "Name: SDOTCOLNUM, dtype: int64\n",
      "\n",
      "SPEEDING\n",
      "True     185340\n",
      "False      9333\n",
      "Name: SPEEDING, dtype: int64\n",
      "\n",
      "ST_COLCODE\n",
      "False    194655\n",
      "True         18\n",
      "Name: ST_COLCODE, dtype: int64\n",
      "\n",
      "ST_COLDESC\n",
      "False    189769\n",
      "True       4904\n",
      "Name: ST_COLDESC, dtype: int64\n",
      "\n",
      "SEGLANEKEY\n",
      "False    194673\n",
      "Name: SEGLANEKEY, dtype: int64\n",
      "\n",
      "CROSSWALKKEY\n",
      "False    194673\n",
      "Name: CROSSWALKKEY, dtype: int64\n",
      "\n",
      "HITPARKEDCAR\n",
      "False    194673\n",
      "Name: HITPARKEDCAR, dtype: int64\n",
      "\n"
     ]
    }
   ],
   "source": [
    "missing_data = df.isnull()\n",
    "for column in missing_data.columns.values.tolist(): \n",
    "    print(column) \n",
    "    print (missing_data[column].value_counts()) \n",
    "    print(\"\")"
   ]
  },
  {
   "cell_type": "markdown",
   "metadata": {},
   "source": [
    "**Visualizing missing data**"
   ]
  },
  {
   "cell_type": "code",
   "execution_count": 6,
   "metadata": {
    "scrolled": true
   },
   "outputs": [
    {
     "data": {
      "text/plain": [
       "<Figure size 720x360 with 0 Axes>"
      ]
     },
     "metadata": {},
     "output_type": "display_data"
    },
    {
     "data": {
      "image/png": "[encoded data removed]",
      "text/plain": [
       "<Figure size 1800x720 with 2 Axes>"
      ]
     },
     "metadata": {
      "needs_background": "light"
     },
     "output_type": "display_data"
    }
   ],
   "source": [
    "import missingno as msn\n",
    "plt.figure(figsize=(10,5))\n",
    "msn.matrix(df)\n",
    "plt.show()"
   ]
  },
  {
   "cell_type": "markdown",
   "metadata": {},
   "source": [
    "**Features to be dropped and its reason**\n",
    "* `SEVERITY.1`: Duplicated as the target variable.\n",
    "* `X`, `Y`: In consideration.\n",
    "* `OBJECTID`, `INCKEY`, `COLDETKEY`, `REPORTNO`, `STATUS`, `INTKEY`, `EXCEPTRSNCODE`, `EXCEPTRSNDESC`, `SDOT_COLCODE`, `SDOT_COLDESC`, `SDOTCOLNUM`, `ST_COLCODE`, `ST_COLDESC`, `SEGLANEKEY`, `CROSSWALKKEY`: Not useful for prediction.\n",
    "* `LOCATION`: Not possible to make it a categorical variable.\n",
    "* `INCDATE`: The feature `INCDTTM` has the same data, but also the hour of the incident.\n",
    "* `PEDROWNOTGRNT`, `SEVERITYDESC`, `INCDTTM`: Needs corrections."
   ]
  },
  {
   "cell_type": "code",
   "execution_count": 7,
   "metadata": {},
   "outputs": [
    {
     "data": {
      "text/plain": [
       "array(['SEVERITYCODE', 'X', 'Y', 'ADDRTYPE', 'SEVERITYDESC',\n",
       "       'COLLISIONTYPE', 'PERSONCOUNT', 'PEDCOUNT', 'PEDCYLCOUNT',\n",
       "       'VEHCOUNT', 'INCDTTM', 'JUNCTIONTYPE', 'INATTENTIONIND',\n",
       "       'UNDERINFL', 'WEATHER', 'ROADCOND', 'LIGHTCOND', 'PEDROWNOTGRNT',\n",
       "       'SPEEDING', 'HITPARKEDCAR'], dtype=object)"
      ]
     },
     "execution_count": 7,
     "metadata": {},
     "output_type": "execute_result"
    }
   ],
   "source": [
    "df2 = df.drop(columns=[\"SEVERITYCODE.1\",\"OBJECTID\",\"INCKEY\",\"COLDETKEY\",\"REPORTNO\",\"STATUS\",\"INTKEY\",\"EXCEPTRSNCODE\",\"EXCEPTRSNDESC\",\"SDOT_COLCODE\",\"SDOT_COLDESC\",\"SDOTCOLNUM\",\"ST_COLCODE\",\"ST_COLDESC\",\"SEGLANEKEY\",\"CROSSWALKKEY\",\"LOCATION\",\"INCDATE\"])\n",
    "df2.columns.values"
   ]
  },
  {
   "cell_type": "markdown",
   "metadata": {},
   "source": [
    "**Formatting and cleaning**\n",
    "\n",
    "Drop the rows with missing values and make changes with the following features:\n",
    "* `PEDROWNOTGRNT`: Add the missing data, which are 'N' values.  \n",
    "* `SEVERITYDESC`: One Hot Encoding. \n",
    "* `INCDTTM`: Extract the day of the week, hour and month, then delete it.\n",
    "* `JUNCTIONTYPE`: One Hot Encoding."
   ]
  },
  {
   "cell_type": "code",
   "execution_count": 8,
   "metadata": {},
   "outputs": [
    {
     "data": {
      "text/plain": [
       "Not Enough Information, or Insufficient Location Information    5638\n",
       "Name: EXCEPTRSNDESC, dtype: int64"
      ]
     },
     "execution_count": 8,
     "metadata": {},
     "output_type": "execute_result"
    }
   ],
   "source": [
    "df[\"EXCEPTRSNDESC\"].value_counts()"
   ]
  },
  {
   "cell_type": "code",
   "execution_count": 9,
   "metadata": {},
   "outputs": [],
   "source": [
    "df2[\"PEDROWNOTGRNT\"].replace(np.nan,'N',inplace=True)\n",
    "df2[\"JUNCTIONTYPE\"].replace(np.nan,'Unknown',inplace=True)\n",
    "df2[\"INATTENTIONIND\"].replace(np.nan,'N',inplace=True)\n",
    "df2[\"UNDERINFL\"].replace([np.nan,0,1],['N','N','Y'],inplace=True)\n",
    "df2[\"SPEEDING\"].replace(np.nan,'N',inplace=True)\n",
    "\n",
    "df2[\"INCDTTM\"]=pd.to_datetime(df2[\"INCDTTM\"])\n",
    "df2[\"Day\"]=df2[\"INCDTTM\"].dt.weekday\n",
    "df2[\"Month\"]=df2[\"INCDTTM\"].dt.month\n",
    "df2[\"Hour\"]=df2[\"INCDTTM\"].dt.hour\n",
    "df2.drop(\"INCDTTM\", axis=1, inplace=True)\n",
    "\n",
    "df2.dropna(subset=[\"ADDRTYPE\",\"COLLISIONTYPE\",\"WEATHER\",\"ROADCOND\",\"LIGHTCOND\"], inplace=True)\n",
    "\n",
    "df2[[\"INATTENTIONIND\", \"PEDROWNOTGRNT\", \"SPEEDING\", \"X\",\"Y\",\"UNDERINFL\"]]=df2[[\"INATTENTIONIND\", \"PEDROWNOTGRNT\", \"SPEEDING\", \"X\",\"Y\",\"UNDERINFL\"]].replace(np.nan,0)\n",
    "df2[[\"INATTENTIONIND\",\"SPEEDING\",\"HITPARKEDCAR\",\"PEDROWNOTGRNT\",\"UNDERINFL\"]]=df2[[\"INATTENTIONIND\",\"SPEEDING\",\"HITPARKEDCAR\",\"PEDROWNOTGRNT\",\"UNDERINFL\"]].replace([\"N\",\"Y\"],[0,1])\n",
    "df2[[\"SEVERITYCODE\", \"PERSONCOUNT\", \"PEDCOUNT\", \"PEDCYLCOUNT\", \"VEHCOUNT\", \"INATTENTIONIND\", \"UNDERINFL\", \"PEDROWNOTGRNT\", \"SPEEDING\", \"HITPARKEDCAR\", \"Day\", \"Month\", \"Hour\"]]=df2[[\"SEVERITYCODE\", \"PERSONCOUNT\", \"PEDCOUNT\", \"PEDCYLCOUNT\", \"VEHCOUNT\", \"INATTENTIONIND\", \"UNDERINFL\", \"PEDROWNOTGRNT\", \"SPEEDING\", \"HITPARKEDCAR\", \"Day\", \"Month\", \"Hour\"]].astype(int)"
   ]
  },
  {
   "cell_type": "code",
   "execution_count": 10,
   "metadata": {},
   "outputs": [
    {
     "data": {
      "text/html": [
       "<div>\n",
       "<style scoped>\n",
       "    .dataframe tbody tr th:only-of-type {\n",
       "        vertical-align: middle;\n",
       "    }\n",
       "\n",
       "    .dataframe tbody tr th {\n",
       "        vertical-align: top;\n",
       "    }\n",
       "\n",
       "    .dataframe thead th {\n",
       "        text-align: right;\n",
       "    }\n",
       "</style>\n",
       "<table border=\"1\" class=\"dataframe\">\n",
       "  <thead>\n",
       "    <tr style=\"text-align: right;\">\n",
       "      <th></th>\n",
       "      <th>SEVERITYCODE</th>\n",
       "      <th>X</th>\n",
       "      <th>Y</th>\n",
       "      <th>ADDRTYPE</th>\n",
       "      <th>SEVERITYDESC</th>\n",
       "      <th>COLLISIONTYPE</th>\n",
       "      <th>PERSONCOUNT</th>\n",
       "      <th>PEDCOUNT</th>\n",
       "      <th>PEDCYLCOUNT</th>\n",
       "      <th>VEHCOUNT</th>\n",
       "      <th>...</th>\n",
       "      <th>UNDERINFL</th>\n",
       "      <th>WEATHER</th>\n",
       "      <th>ROADCOND</th>\n",
       "      <th>LIGHTCOND</th>\n",
       "      <th>PEDROWNOTGRNT</th>\n",
       "      <th>SPEEDING</th>\n",
       "      <th>HITPARKEDCAR</th>\n",
       "      <th>Day</th>\n",
       "      <th>Month</th>\n",
       "      <th>Hour</th>\n",
       "    </tr>\n",
       "  </thead>\n",
       "  <tbody>\n",
       "    <tr>\n",
       "      <th>0</th>\n",
       "      <td>2</td>\n",
       "      <td>-122.323148</td>\n",
       "      <td>47.703140</td>\n",
       "      <td>Intersection</td>\n",
       "      <td>Injury Collision</td>\n",
       "      <td>Angles</td>\n",
       "      <td>2</td>\n",
       "      <td>0</td>\n",
       "      <td>0</td>\n",
       "      <td>2</td>\n",
       "      <td>...</td>\n",
       "      <td>0</td>\n",
       "      <td>Overcast</td>\n",
       "      <td>Wet</td>\n",
       "      <td>Daylight</td>\n",
       "      <td>0</td>\n",
       "      <td>0</td>\n",
       "      <td>0</td>\n",
       "      <td>2</td>\n",
       "      <td>3</td>\n",
       "      <td>14</td>\n",
       "    </tr>\n",
       "    <tr>\n",
       "      <th>1</th>\n",
       "      <td>1</td>\n",
       "      <td>-122.347294</td>\n",
       "      <td>47.647172</td>\n",
       "      <td>Block</td>\n",
       "      <td>Property Damage Only Collision</td>\n",
       "      <td>Sideswipe</td>\n",
       "      <td>2</td>\n",
       "      <td>0</td>\n",
       "      <td>0</td>\n",
       "      <td>2</td>\n",
       "      <td>...</td>\n",
       "      <td>0</td>\n",
       "      <td>Raining</td>\n",
       "      <td>Wet</td>\n",
       "      <td>Dark - Street Lights On</td>\n",
       "      <td>0</td>\n",
       "      <td>0</td>\n",
       "      <td>0</td>\n",
       "      <td>2</td>\n",
       "      <td>12</td>\n",
       "      <td>18</td>\n",
       "    </tr>\n",
       "    <tr>\n",
       "      <th>2</th>\n",
       "      <td>1</td>\n",
       "      <td>-122.334540</td>\n",
       "      <td>47.607871</td>\n",
       "      <td>Block</td>\n",
       "      <td>Property Damage Only Collision</td>\n",
       "      <td>Parked Car</td>\n",
       "      <td>4</td>\n",
       "      <td>0</td>\n",
       "      <td>0</td>\n",
       "      <td>3</td>\n",
       "      <td>...</td>\n",
       "      <td>0</td>\n",
       "      <td>Overcast</td>\n",
       "      <td>Dry</td>\n",
       "      <td>Daylight</td>\n",
       "      <td>0</td>\n",
       "      <td>0</td>\n",
       "      <td>0</td>\n",
       "      <td>3</td>\n",
       "      <td>11</td>\n",
       "      <td>10</td>\n",
       "    </tr>\n",
       "    <tr>\n",
       "      <th>3</th>\n",
       "      <td>1</td>\n",
       "      <td>-122.334803</td>\n",
       "      <td>47.604803</td>\n",
       "      <td>Block</td>\n",
       "      <td>Property Damage Only Collision</td>\n",
       "      <td>Other</td>\n",
       "      <td>3</td>\n",
       "      <td>0</td>\n",
       "      <td>0</td>\n",
       "      <td>3</td>\n",
       "      <td>...</td>\n",
       "      <td>0</td>\n",
       "      <td>Clear</td>\n",
       "      <td>Dry</td>\n",
       "      <td>Daylight</td>\n",
       "      <td>0</td>\n",
       "      <td>0</td>\n",
       "      <td>0</td>\n",
       "      <td>4</td>\n",
       "      <td>3</td>\n",
       "      <td>9</td>\n",
       "    </tr>\n",
       "    <tr>\n",
       "      <th>4</th>\n",
       "      <td>2</td>\n",
       "      <td>-122.306426</td>\n",
       "      <td>47.545739</td>\n",
       "      <td>Intersection</td>\n",
       "      <td>Injury Collision</td>\n",
       "      <td>Angles</td>\n",
       "      <td>2</td>\n",
       "      <td>0</td>\n",
       "      <td>0</td>\n",
       "      <td>2</td>\n",
       "      <td>...</td>\n",
       "      <td>0</td>\n",
       "      <td>Raining</td>\n",
       "      <td>Wet</td>\n",
       "      <td>Daylight</td>\n",
       "      <td>0</td>\n",
       "      <td>0</td>\n",
       "      <td>0</td>\n",
       "      <td>2</td>\n",
       "      <td>1</td>\n",
       "      <td>8</td>\n",
       "    </tr>\n",
       "  </tbody>\n",
       "</table>\n",
       "<p>5 rows × 22 columns</p>\n",
       "</div>"
      ],
      "text/plain": [
       "   SEVERITYCODE           X          Y      ADDRTYPE  \\\n",
       "0             2 -122.323148  47.703140  Intersection   \n",
       "1             1 -122.347294  47.647172         Block   \n",
       "2             1 -122.334540  47.607871         Block   \n",
       "3             1 -122.334803  47.604803         Block   \n",
       "4             2 -122.306426  47.545739  Intersection   \n",
       "\n",
       "                     SEVERITYDESC COLLISIONTYPE  PERSONCOUNT  PEDCOUNT  \\\n",
       "0                Injury Collision        Angles            2         0   \n",
       "1  Property Damage Only Collision     Sideswipe            2         0   \n",
       "2  Property Damage Only Collision    Parked Car            4         0   \n",
       "3  Property Damage Only Collision         Other            3         0   \n",
       "4                Injury Collision        Angles            2         0   \n",
       "\n",
       "   PEDCYLCOUNT  VEHCOUNT  ... UNDERINFL   WEATHER  ROADCOND  \\\n",
       "0            0         2  ...         0  Overcast       Wet   \n",
       "1            0         2  ...         0   Raining       Wet   \n",
       "2            0         3  ...         0  Overcast       Dry   \n",
       "3            0         3  ...         0     Clear       Dry   \n",
       "4            0         2  ...         0   Raining       Wet   \n",
       "\n",
       "                 LIGHTCOND PEDROWNOTGRNT SPEEDING  HITPARKEDCAR  Day  Month  \\\n",
       "0                 Daylight             0        0             0    2      3   \n",
       "1  Dark - Street Lights On             0        0             0    2     12   \n",
       "2                 Daylight             0        0             0    3     11   \n",
       "3                 Daylight             0        0             0    4      3   \n",
       "4                 Daylight             0        0             0    2      1   \n",
       "\n",
       "   Hour  \n",
       "0    14  \n",
       "1    18  \n",
       "2    10  \n",
       "3     9  \n",
       "4     8  \n",
       "\n",
       "[5 rows x 22 columns]"
      ]
     },
     "execution_count": 10,
     "metadata": {},
     "output_type": "execute_result"
    }
   ],
   "source": [
    "df2.head()"
   ]
  },
  {
   "cell_type": "code",
   "execution_count": 11,
   "metadata": {},
   "outputs": [
    {
     "data": {
      "text/plain": [
       "SEVERITYCODE        int32\n",
       "X                 float64\n",
       "Y                 float64\n",
       "ADDRTYPE           object\n",
       "SEVERITYDESC       object\n",
       "COLLISIONTYPE      object\n",
       "PERSONCOUNT         int32\n",
       "PEDCOUNT            int32\n",
       "PEDCYLCOUNT         int32\n",
       "VEHCOUNT            int32\n",
       "JUNCTIONTYPE       object\n",
       "INATTENTIONIND      int32\n",
       "UNDERINFL           int32\n",
       "WEATHER            object\n",
       "ROADCOND           object\n",
       "LIGHTCOND          object\n",
       "PEDROWNOTGRNT       int32\n",
       "SPEEDING            int32\n",
       "HITPARKEDCAR        int32\n",
       "Day                 int32\n",
       "Month               int32\n",
       "Hour                int32\n",
       "dtype: object"
      ]
     },
     "execution_count": 11,
     "metadata": {},
     "output_type": "execute_result"
    }
   ],
   "source": [
    "# Formatting is Ok\n",
    "df2.dtypes"
   ]
  },
  {
   "cell_type": "code",
   "execution_count": 12,
   "metadata": {
    "scrolled": true
   },
   "outputs": [
    {
     "data": {
      "text/plain": [
       "<Figure size 720x360 with 0 Axes>"
      ]
     },
     "metadata": {},
     "output_type": "display_data"
    },
    {
     "data": {
      "image/png": "[encoded data removed]",
      "text/plain": [
       "<Figure size 1800x720 with 2 Axes>"
      ]
     },
     "metadata": {
      "needs_background": "light"
     },
     "output_type": "display_data"
    }
   ],
   "source": [
    "plt.figure(figsize=(10,5))\n",
    "msn.matrix(df2)\n",
    "plt.show()"
   ]
  },
  {
   "cell_type": "code",
   "execution_count": 13,
   "metadata": {},
   "outputs": [
    {
     "data": {
      "text/plain": [
       "(187504, 22)"
      ]
     },
     "execution_count": 13,
     "metadata": {},
     "output_type": "execute_result"
    }
   ],
   "source": [
    "df2.shape"
   ]
  },
  {
   "cell_type": "markdown",
   "metadata": {},
   "source": [
    "### Exploratory Data Analysis (EDA)"
   ]
  },
  {
   "cell_type": "markdown",
   "metadata": {},
   "source": [
    "**Statistical summary**"
   ]
  },
  {
   "cell_type": "code",
   "execution_count": 14,
   "metadata": {},
   "outputs": [
    {
     "data": {
      "text/html": [
       "<div>\n",
       "<style scoped>\n",
       "    .dataframe tbody tr th:only-of-type {\n",
       "        vertical-align: middle;\n",
       "    }\n",
       "\n",
       "    .dataframe tbody tr th {\n",
       "        vertical-align: top;\n",
       "    }\n",
       "\n",
       "    .dataframe thead th {\n",
       "        text-align: right;\n",
       "    }\n",
       "</style>\n",
       "<table border=\"1\" class=\"dataframe\">\n",
       "  <thead>\n",
       "    <tr style=\"text-align: right;\">\n",
       "      <th></th>\n",
       "      <th>SEVERITYCODE</th>\n",
       "      <th>X</th>\n",
       "      <th>Y</th>\n",
       "      <th>ADDRTYPE</th>\n",
       "      <th>SEVERITYDESC</th>\n",
       "      <th>COLLISIONTYPE</th>\n",
       "      <th>PERSONCOUNT</th>\n",
       "      <th>PEDCOUNT</th>\n",
       "      <th>PEDCYLCOUNT</th>\n",
       "      <th>VEHCOUNT</th>\n",
       "      <th>...</th>\n",
       "      <th>UNDERINFL</th>\n",
       "      <th>WEATHER</th>\n",
       "      <th>ROADCOND</th>\n",
       "      <th>LIGHTCOND</th>\n",
       "      <th>PEDROWNOTGRNT</th>\n",
       "      <th>SPEEDING</th>\n",
       "      <th>HITPARKEDCAR</th>\n",
       "      <th>Day</th>\n",
       "      <th>Month</th>\n",
       "      <th>Hour</th>\n",
       "    </tr>\n",
       "  </thead>\n",
       "  <tbody>\n",
       "    <tr>\n",
       "      <th>count</th>\n",
       "      <td>187504.000000</td>\n",
       "      <td>187504.000000</td>\n",
       "      <td>187504.000000</td>\n",
       "      <td>187504</td>\n",
       "      <td>187504</td>\n",
       "      <td>187504</td>\n",
       "      <td>187504.000000</td>\n",
       "      <td>187504.000000</td>\n",
       "      <td>187504.000000</td>\n",
       "      <td>187504.000000</td>\n",
       "      <td>...</td>\n",
       "      <td>187504.000000</td>\n",
       "      <td>187504</td>\n",
       "      <td>187504</td>\n",
       "      <td>187504</td>\n",
       "      <td>187504.000000</td>\n",
       "      <td>187504.000000</td>\n",
       "      <td>187504.000000</td>\n",
       "      <td>187504.000000</td>\n",
       "      <td>187504.000000</td>\n",
       "      <td>187504.000000</td>\n",
       "    </tr>\n",
       "    <tr>\n",
       "      <th>unique</th>\n",
       "      <td>NaN</td>\n",
       "      <td>NaN</td>\n",
       "      <td>NaN</td>\n",
       "      <td>3</td>\n",
       "      <td>2</td>\n",
       "      <td>10</td>\n",
       "      <td>NaN</td>\n",
       "      <td>NaN</td>\n",
       "      <td>NaN</td>\n",
       "      <td>NaN</td>\n",
       "      <td>...</td>\n",
       "      <td>NaN</td>\n",
       "      <td>11</td>\n",
       "      <td>9</td>\n",
       "      <td>9</td>\n",
       "      <td>NaN</td>\n",
       "      <td>NaN</td>\n",
       "      <td>NaN</td>\n",
       "      <td>NaN</td>\n",
       "      <td>NaN</td>\n",
       "      <td>NaN</td>\n",
       "    </tr>\n",
       "    <tr>\n",
       "      <th>top</th>\n",
       "      <td>NaN</td>\n",
       "      <td>NaN</td>\n",
       "      <td>NaN</td>\n",
       "      <td>Block</td>\n",
       "      <td>Property Damage Only Collision</td>\n",
       "      <td>Parked Car</td>\n",
       "      <td>NaN</td>\n",
       "      <td>NaN</td>\n",
       "      <td>NaN</td>\n",
       "      <td>NaN</td>\n",
       "      <td>...</td>\n",
       "      <td>NaN</td>\n",
       "      <td>Clear</td>\n",
       "      <td>Dry</td>\n",
       "      <td>Daylight</td>\n",
       "      <td>NaN</td>\n",
       "      <td>NaN</td>\n",
       "      <td>NaN</td>\n",
       "      <td>NaN</td>\n",
       "      <td>NaN</td>\n",
       "      <td>NaN</td>\n",
       "    </tr>\n",
       "    <tr>\n",
       "      <th>freq</th>\n",
       "      <td>NaN</td>\n",
       "      <td>NaN</td>\n",
       "      <td>NaN</td>\n",
       "      <td>123315</td>\n",
       "      <td>130634</td>\n",
       "      <td>46679</td>\n",
       "      <td>NaN</td>\n",
       "      <td>NaN</td>\n",
       "      <td>NaN</td>\n",
       "      <td>NaN</td>\n",
       "      <td>...</td>\n",
       "      <td>NaN</td>\n",
       "      <td>110493</td>\n",
       "      <td>123730</td>\n",
       "      <td>115395</td>\n",
       "      <td>NaN</td>\n",
       "      <td>NaN</td>\n",
       "      <td>NaN</td>\n",
       "      <td>NaN</td>\n",
       "      <td>NaN</td>\n",
       "      <td>NaN</td>\n",
       "    </tr>\n",
       "    <tr>\n",
       "      <th>mean</th>\n",
       "      <td>1.303300</td>\n",
       "      <td>-120.139690</td>\n",
       "      <td>46.766730</td>\n",
       "      <td>NaN</td>\n",
       "      <td>NaN</td>\n",
       "      <td>NaN</td>\n",
       "      <td>2.463515</td>\n",
       "      <td>0.038453</td>\n",
       "      <td>0.029306</td>\n",
       "      <td>1.970534</td>\n",
       "      <td>...</td>\n",
       "      <td>0.048356</td>\n",
       "      <td>NaN</td>\n",
       "      <td>NaN</td>\n",
       "      <td>NaN</td>\n",
       "      <td>0.024847</td>\n",
       "      <td>0.049412</td>\n",
       "      <td>0.035413</td>\n",
       "      <td>2.944225</td>\n",
       "      <td>6.571060</td>\n",
       "      <td>11.449580</td>\n",
       "    </tr>\n",
       "    <tr>\n",
       "      <th>std</th>\n",
       "      <td>0.459685</td>\n",
       "      <td>16.223614</td>\n",
       "      <td>6.315595</td>\n",
       "      <td>NaN</td>\n",
       "      <td>NaN</td>\n",
       "      <td>NaN</td>\n",
       "      <td>1.360033</td>\n",
       "      <td>0.201523</td>\n",
       "      <td>0.169986</td>\n",
       "      <td>0.559415</td>\n",
       "      <td>...</td>\n",
       "      <td>0.214519</td>\n",
       "      <td>NaN</td>\n",
       "      <td>NaN</td>\n",
       "      <td>NaN</td>\n",
       "      <td>0.155661</td>\n",
       "      <td>0.216728</td>\n",
       "      <td>0.184821</td>\n",
       "      <td>1.922867</td>\n",
       "      <td>3.424131</td>\n",
       "      <td>6.934975</td>\n",
       "    </tr>\n",
       "    <tr>\n",
       "      <th>min</th>\n",
       "      <td>1.000000</td>\n",
       "      <td>-122.419091</td>\n",
       "      <td>0.000000</td>\n",
       "      <td>NaN</td>\n",
       "      <td>NaN</td>\n",
       "      <td>NaN</td>\n",
       "      <td>0.000000</td>\n",
       "      <td>0.000000</td>\n",
       "      <td>0.000000</td>\n",
       "      <td>0.000000</td>\n",
       "      <td>...</td>\n",
       "      <td>0.000000</td>\n",
       "      <td>NaN</td>\n",
       "      <td>NaN</td>\n",
       "      <td>NaN</td>\n",
       "      <td>0.000000</td>\n",
       "      <td>0.000000</td>\n",
       "      <td>0.000000</td>\n",
       "      <td>0.000000</td>\n",
       "      <td>1.000000</td>\n",
       "      <td>0.000000</td>\n",
       "    </tr>\n",
       "    <tr>\n",
       "      <th>25%</th>\n",
       "      <td>1.000000</td>\n",
       "      <td>-122.348212</td>\n",
       "      <td>47.571980</td>\n",
       "      <td>NaN</td>\n",
       "      <td>NaN</td>\n",
       "      <td>NaN</td>\n",
       "      <td>2.000000</td>\n",
       "      <td>0.000000</td>\n",
       "      <td>0.000000</td>\n",
       "      <td>2.000000</td>\n",
       "      <td>...</td>\n",
       "      <td>0.000000</td>\n",
       "      <td>NaN</td>\n",
       "      <td>NaN</td>\n",
       "      <td>NaN</td>\n",
       "      <td>0.000000</td>\n",
       "      <td>0.000000</td>\n",
       "      <td>0.000000</td>\n",
       "      <td>1.000000</td>\n",
       "      <td>4.000000</td>\n",
       "      <td>7.000000</td>\n",
       "    </tr>\n",
       "    <tr>\n",
       "      <th>50%</th>\n",
       "      <td>1.000000</td>\n",
       "      <td>-122.329534</td>\n",
       "      <td>47.614772</td>\n",
       "      <td>NaN</td>\n",
       "      <td>NaN</td>\n",
       "      <td>NaN</td>\n",
       "      <td>2.000000</td>\n",
       "      <td>0.000000</td>\n",
       "      <td>0.000000</td>\n",
       "      <td>2.000000</td>\n",
       "      <td>...</td>\n",
       "      <td>0.000000</td>\n",
       "      <td>NaN</td>\n",
       "      <td>NaN</td>\n",
       "      <td>NaN</td>\n",
       "      <td>0.000000</td>\n",
       "      <td>0.000000</td>\n",
       "      <td>0.000000</td>\n",
       "      <td>3.000000</td>\n",
       "      <td>7.000000</td>\n",
       "      <td>13.000000</td>\n",
       "    </tr>\n",
       "    <tr>\n",
       "      <th>75%</th>\n",
       "      <td>2.000000</td>\n",
       "      <td>-122.310150</td>\n",
       "      <td>47.663103</td>\n",
       "      <td>NaN</td>\n",
       "      <td>NaN</td>\n",
       "      <td>NaN</td>\n",
       "      <td>3.000000</td>\n",
       "      <td>0.000000</td>\n",
       "      <td>0.000000</td>\n",
       "      <td>2.000000</td>\n",
       "      <td>...</td>\n",
       "      <td>0.000000</td>\n",
       "      <td>NaN</td>\n",
       "      <td>NaN</td>\n",
       "      <td>NaN</td>\n",
       "      <td>0.000000</td>\n",
       "      <td>0.000000</td>\n",
       "      <td>0.000000</td>\n",
       "      <td>5.000000</td>\n",
       "      <td>10.000000</td>\n",
       "      <td>17.000000</td>\n",
       "    </tr>\n",
       "    <tr>\n",
       "      <th>max</th>\n",
       "      <td>2.000000</td>\n",
       "      <td>0.000000</td>\n",
       "      <td>47.734142</td>\n",
       "      <td>NaN</td>\n",
       "      <td>NaN</td>\n",
       "      <td>NaN</td>\n",
       "      <td>81.000000</td>\n",
       "      <td>6.000000</td>\n",
       "      <td>2.000000</td>\n",
       "      <td>12.000000</td>\n",
       "      <td>...</td>\n",
       "      <td>1.000000</td>\n",
       "      <td>NaN</td>\n",
       "      <td>NaN</td>\n",
       "      <td>NaN</td>\n",
       "      <td>1.000000</td>\n",
       "      <td>1.000000</td>\n",
       "      <td>1.000000</td>\n",
       "      <td>6.000000</td>\n",
       "      <td>12.000000</td>\n",
       "      <td>23.000000</td>\n",
       "    </tr>\n",
       "  </tbody>\n",
       "</table>\n",
       "<p>11 rows × 22 columns</p>\n",
       "</div>"
      ],
      "text/plain": [
       "         SEVERITYCODE              X              Y ADDRTYPE  \\\n",
       "count   187504.000000  187504.000000  187504.000000   187504   \n",
       "unique            NaN            NaN            NaN        3   \n",
       "top               NaN            NaN            NaN    Block   \n",
       "freq              NaN            NaN            NaN   123315   \n",
       "mean         1.303300    -120.139690      46.766730      NaN   \n",
       "std          0.459685      16.223614       6.315595      NaN   \n",
       "min          1.000000    -122.419091       0.000000      NaN   \n",
       "25%          1.000000    -122.348212      47.571980      NaN   \n",
       "50%          1.000000    -122.329534      47.614772      NaN   \n",
       "75%          2.000000    -122.310150      47.663103      NaN   \n",
       "max          2.000000       0.000000      47.734142      NaN   \n",
       "\n",
       "                          SEVERITYDESC COLLISIONTYPE    PERSONCOUNT  \\\n",
       "count                           187504        187504  187504.000000   \n",
       "unique                               2            10            NaN   \n",
       "top     Property Damage Only Collision    Parked Car            NaN   \n",
       "freq                            130634         46679            NaN   \n",
       "mean                               NaN           NaN       2.463515   \n",
       "std                                NaN           NaN       1.360033   \n",
       "min                                NaN           NaN       0.000000   \n",
       "25%                                NaN           NaN       2.000000   \n",
       "50%                                NaN           NaN       2.000000   \n",
       "75%                                NaN           NaN       3.000000   \n",
       "max                                NaN           NaN      81.000000   \n",
       "\n",
       "             PEDCOUNT    PEDCYLCOUNT       VEHCOUNT  ...      UNDERINFL  \\\n",
       "count   187504.000000  187504.000000  187504.000000  ...  187504.000000   \n",
       "unique            NaN            NaN            NaN  ...            NaN   \n",
       "top               NaN            NaN            NaN  ...            NaN   \n",
       "freq              NaN            NaN            NaN  ...            NaN   \n",
       "mean         0.038453       0.029306       1.970534  ...       0.048356   \n",
       "std          0.201523       0.169986       0.559415  ...       0.214519   \n",
       "min          0.000000       0.000000       0.000000  ...       0.000000   \n",
       "25%          0.000000       0.000000       2.000000  ...       0.000000   \n",
       "50%          0.000000       0.000000       2.000000  ...       0.000000   \n",
       "75%          0.000000       0.000000       2.000000  ...       0.000000   \n",
       "max          6.000000       2.000000      12.000000  ...       1.000000   \n",
       "\n",
       "        WEATHER  ROADCOND LIGHTCOND  PEDROWNOTGRNT       SPEEDING  \\\n",
       "count    187504    187504    187504  187504.000000  187504.000000   \n",
       "unique       11         9         9            NaN            NaN   \n",
       "top       Clear       Dry  Daylight            NaN            NaN   \n",
       "freq     110493    123730    115395            NaN            NaN   \n",
       "mean        NaN       NaN       NaN       0.024847       0.049412   \n",
       "std         NaN       NaN       NaN       0.155661       0.216728   \n",
       "min         NaN       NaN       NaN       0.000000       0.000000   \n",
       "25%         NaN       NaN       NaN       0.000000       0.000000   \n",
       "50%         NaN       NaN       NaN       0.000000       0.000000   \n",
       "75%         NaN       NaN       NaN       0.000000       0.000000   \n",
       "max         NaN       NaN       NaN       1.000000       1.000000   \n",
       "\n",
       "         HITPARKEDCAR            Day          Month           Hour  \n",
       "count   187504.000000  187504.000000  187504.000000  187504.000000  \n",
       "unique            NaN            NaN            NaN            NaN  \n",
       "top               NaN            NaN            NaN            NaN  \n",
       "freq              NaN            NaN            NaN            NaN  \n",
       "mean         0.035413       2.944225       6.571060      11.449580  \n",
       "std          0.184821       1.922867       3.424131       6.934975  \n",
       "min          0.000000       0.000000       1.000000       0.000000  \n",
       "25%          0.000000       1.000000       4.000000       7.000000  \n",
       "50%          0.000000       3.000000       7.000000      13.000000  \n",
       "75%          0.000000       5.000000      10.000000      17.000000  \n",
       "max          1.000000       6.000000      12.000000      23.000000  \n",
       "\n",
       "[11 rows x 22 columns]"
      ]
     },
     "execution_count": 14,
     "metadata": {},
     "output_type": "execute_result"
    }
   ],
   "source": [
    "df2.describe(include = \"all\")"
   ]
  },
  {
   "cell_type": "markdown",
   "metadata": {},
   "source": [
    "**Identify the feature with the highest correlation with `SEVERITYCODE`**"
   ]
  },
  {
   "cell_type": "code",
   "execution_count": 15,
   "metadata": {},
   "outputs": [
    {
     "data": {
      "image/png": "[encoded data removed]",
      "text/plain": [
       "<Figure size 1080x360 with 2 Axes>"
      ]
     },
     "metadata": {
      "needs_background": "light"
     },
     "output_type": "display_data"
    }
   ],
   "source": [
    "cor=df2.corr()\n",
    "plt.figure(figsize=(15,5))\n",
    "sns.heatmap(cor,vmin=-1,vmax=1,cbar=True,cmap='PuBu',annot=True)\n",
    "plt.show()"
   ]
  },
  {
   "cell_type": "markdown",
   "metadata": {},
   "source": [
    "**Observations**\n",
    "\n",
    "The first 5 features with major correlation are:\n",
    "1. `PEDCOUNT`\n",
    "1. `PEDCYLCOUNT`\n",
    "1. `PEDROWNOTGRNT`\n",
    "1. `PERSONCOUNT`\n",
    "1. `VEHCOUNT`\n",
    "\n",
    "On the other side, we can tell that `Month`, `X`, `Y` and others have poor correlation, so we may want to omit them for Modeling. "
   ]
  },
  {
   "cell_type": "code",
   "execution_count": 16,
   "metadata": {},
   "outputs": [],
   "source": [
    "# df2 = df2.drop(columns=[\"X\",\"Y\",\"Month\"])"
   ]
  },
  {
   "cell_type": "markdown",
   "metadata": {},
   "source": [
    "**One Hot Encoding**"
   ]
  },
  {
   "cell_type": "code",
   "execution_count": 17,
   "metadata": {},
   "outputs": [],
   "source": [
    "df2 = pd.get_dummies(df2,columns=['ADDRTYPE','SEVERITYDESC','COLLISIONTYPE','WEATHER','ROADCOND','LIGHTCOND','JUNCTIONTYPE'])"
   ]
  },
  {
   "cell_type": "markdown",
   "metadata": {},
   "source": [
    "**Verify news features**"
   ]
  },
  {
   "cell_type": "code",
   "execution_count": 18,
   "metadata": {
    "scrolled": true
   },
   "outputs": [
    {
     "data": {
      "text/plain": [
       "Index(['SEVERITYCODE', 'X', 'Y', 'PERSONCOUNT', 'PEDCOUNT', 'PEDCYLCOUNT',\n",
       "       'VEHCOUNT', 'INATTENTIONIND', 'UNDERINFL', 'PEDROWNOTGRNT', 'SPEEDING',\n",
       "       'HITPARKEDCAR', 'Day', 'Month', 'Hour', 'ADDRTYPE_Alley',\n",
       "       'ADDRTYPE_Block', 'ADDRTYPE_Intersection',\n",
       "       'SEVERITYDESC_Injury Collision',\n",
       "       'SEVERITYDESC_Property Damage Only Collision', 'COLLISIONTYPE_Angles',\n",
       "       'COLLISIONTYPE_Cycles', 'COLLISIONTYPE_Head On',\n",
       "       'COLLISIONTYPE_Left Turn', 'COLLISIONTYPE_Other',\n",
       "       'COLLISIONTYPE_Parked Car', 'COLLISIONTYPE_Pedestrian',\n",
       "       'COLLISIONTYPE_Rear Ended', 'COLLISIONTYPE_Right Turn',\n",
       "       'COLLISIONTYPE_Sideswipe', 'WEATHER_Blowing Sand/Dirt', 'WEATHER_Clear',\n",
       "       'WEATHER_Fog/Smog/Smoke', 'WEATHER_Other', 'WEATHER_Overcast',\n",
       "       'WEATHER_Partly Cloudy', 'WEATHER_Raining', 'WEATHER_Severe Crosswind',\n",
       "       'WEATHER_Sleet/Hail/Freezing Rain', 'WEATHER_Snowing',\n",
       "       'WEATHER_Unknown', 'ROADCOND_Dry', 'ROADCOND_Ice', 'ROADCOND_Oil',\n",
       "       'ROADCOND_Other', 'ROADCOND_Sand/Mud/Dirt', 'ROADCOND_Snow/Slush',\n",
       "       'ROADCOND_Standing Water', 'ROADCOND_Unknown', 'ROADCOND_Wet',\n",
       "       'LIGHTCOND_Dark - No Street Lights',\n",
       "       'LIGHTCOND_Dark - Street Lights Off',\n",
       "       'LIGHTCOND_Dark - Street Lights On',\n",
       "       'LIGHTCOND_Dark - Unknown Lighting', 'LIGHTCOND_Dawn',\n",
       "       'LIGHTCOND_Daylight', 'LIGHTCOND_Dusk', 'LIGHTCOND_Other',\n",
       "       'LIGHTCOND_Unknown',\n",
       "       'JUNCTIONTYPE_At Intersection (but not related to intersection)',\n",
       "       'JUNCTIONTYPE_At Intersection (intersection related)',\n",
       "       'JUNCTIONTYPE_Driveway Junction',\n",
       "       'JUNCTIONTYPE_Mid-Block (but intersection related)',\n",
       "       'JUNCTIONTYPE_Mid-Block (not related to intersection)',\n",
       "       'JUNCTIONTYPE_Ramp Junction', 'JUNCTIONTYPE_Unknown'],\n",
       "      dtype='object')"
      ]
     },
     "execution_count": 18,
     "metadata": {},
     "output_type": "execute_result"
    }
   ],
   "source": [
    "df2.columns"
   ]
  },
  {
   "cell_type": "markdown",
   "metadata": {},
   "source": [
    "### Data Normalization"
   ]
  },
  {
   "cell_type": "markdown",
   "metadata": {},
   "source": [
    "**Verify all data as type int**"
   ]
  },
  {
   "cell_type": "code",
   "execution_count": 19,
   "metadata": {
    "scrolled": true
   },
   "outputs": [
    {
     "name": "stdout",
     "output_type": "stream",
     "text": [
      "<class 'pandas.core.frame.DataFrame'>\n",
      "Int64Index: 187504 entries, 0 to 194672\n",
      "Data columns (total 66 columns):\n",
      " #   Column                                                          Non-Null Count   Dtype  \n",
      "---  ------                                                          --------------   -----  \n",
      " 0   SEVERITYCODE                                                    187504 non-null  int32  \n",
      " 1   X                                                               187504 non-null  float64\n",
      " 2   Y                                                               187504 non-null  float64\n",
      " 3   PERSONCOUNT                                                     187504 non-null  int32  \n",
      " 4   PEDCOUNT                                                        187504 non-null  int32  \n",
      " 5   PEDCYLCOUNT                                                     187504 non-null  int32  \n",
      " 6   VEHCOUNT                                                        187504 non-null  int32  \n",
      " 7   INATTENTIONIND                                                  187504 non-null  int32  \n",
      " 8   UNDERINFL                                                       187504 non-null  int32  \n",
      " 9   PEDROWNOTGRNT                                                   187504 non-null  int32  \n",
      " 10  SPEEDING                                                        187504 non-null  int32  \n",
      " 11  HITPARKEDCAR                                                    187504 non-null  int32  \n",
      " 12  Day                                                             187504 non-null  int32  \n",
      " 13  Month                                                           187504 non-null  int32  \n",
      " 14  Hour                                                            187504 non-null  int32  \n",
      " 15  ADDRTYPE_Alley                                                  187504 non-null  uint8  \n",
      " 16  ADDRTYPE_Block                                                  187504 non-null  uint8  \n",
      " 17  ADDRTYPE_Intersection                                           187504 non-null  uint8  \n",
      " 18  SEVERITYDESC_Injury Collision                                   187504 non-null  uint8  \n",
      " 19  SEVERITYDESC_Property Damage Only Collision                     187504 non-null  uint8  \n",
      " 20  COLLISIONTYPE_Angles                                            187504 non-null  uint8  \n",
      " 21  COLLISIONTYPE_Cycles                                            187504 non-null  uint8  \n",
      " 22  COLLISIONTYPE_Head On                                           187504 non-null  uint8  \n",
      " 23  COLLISIONTYPE_Left Turn                                         187504 non-null  uint8  \n",
      " 24  COLLISIONTYPE_Other                                             187504 non-null  uint8  \n",
      " 25  COLLISIONTYPE_Parked Car                                        187504 non-null  uint8  \n",
      " 26  COLLISIONTYPE_Pedestrian                                        187504 non-null  uint8  \n",
      " 27  COLLISIONTYPE_Rear Ended                                        187504 non-null  uint8  \n",
      " 28  COLLISIONTYPE_Right Turn                                        187504 non-null  uint8  \n",
      " 29  COLLISIONTYPE_Sideswipe                                         187504 non-null  uint8  \n",
      " 30  WEATHER_Blowing Sand/Dirt                                       187504 non-null  uint8  \n",
      " 31  WEATHER_Clear                                                   187504 non-null  uint8  \n",
      " 32  WEATHER_Fog/Smog/Smoke                                          187504 non-null  uint8  \n",
      " 33  WEATHER_Other                                                   187504 non-null  uint8  \n",
      " 34  WEATHER_Overcast                                                187504 non-null  uint8  \n",
      " 35  WEATHER_Partly Cloudy                                           187504 non-null  uint8  \n",
      " 36  WEATHER_Raining                                                 187504 non-null  uint8  \n",
      " 37  WEATHER_Severe Crosswind                                        187504 non-null  uint8  \n",
      " 38  WEATHER_Sleet/Hail/Freezing Rain                                187504 non-null  uint8  \n",
      " 39  WEATHER_Snowing                                                 187504 non-null  uint8  \n",
      " 40  WEATHER_Unknown                                                 187504 non-null  uint8  \n",
      " 41  ROADCOND_Dry                                                    187504 non-null  uint8  \n",
      " 42  ROADCOND_Ice                                                    187504 non-null  uint8  \n",
      " 43  ROADCOND_Oil                                                    187504 non-null  uint8  \n",
      " 44  ROADCOND_Other                                                  187504 non-null  uint8  \n",
      " 45  ROADCOND_Sand/Mud/Dirt                                          187504 non-null  uint8  \n",
      " 46  ROADCOND_Snow/Slush                                             187504 non-null  uint8  \n",
      " 47  ROADCOND_Standing Water                                         187504 non-null  uint8  \n",
      " 48  ROADCOND_Unknown                                                187504 non-null  uint8  \n",
      " 49  ROADCOND_Wet                                                    187504 non-null  uint8  \n",
      " 50  LIGHTCOND_Dark - No Street Lights                               187504 non-null  uint8  \n",
      " 51  LIGHTCOND_Dark - Street Lights Off                              187504 non-null  uint8  \n",
      " 52  LIGHTCOND_Dark - Street Lights On                               187504 non-null  uint8  \n",
      " 53  LIGHTCOND_Dark - Unknown Lighting                               187504 non-null  uint8  \n",
      " 54  LIGHTCOND_Dawn                                                  187504 non-null  uint8  \n",
      " 55  LIGHTCOND_Daylight                                              187504 non-null  uint8  \n",
      " 56  LIGHTCOND_Dusk                                                  187504 non-null  uint8  \n",
      " 57  LIGHTCOND_Other                                                 187504 non-null  uint8  \n",
      " 58  LIGHTCOND_Unknown                                               187504 non-null  uint8  \n",
      " 59  JUNCTIONTYPE_At Intersection (but not related to intersection)  187504 non-null  uint8  \n",
      " 60  JUNCTIONTYPE_At Intersection (intersection related)             187504 non-null  uint8  \n",
      " 61  JUNCTIONTYPE_Driveway Junction                                  187504 non-null  uint8  \n",
      " 62  JUNCTIONTYPE_Mid-Block (but intersection related)               187504 non-null  uint8  \n",
      " 63  JUNCTIONTYPE_Mid-Block (not related to intersection)            187504 non-null  uint8  \n",
      " 64  JUNCTIONTYPE_Ramp Junction                                      187504 non-null  uint8  \n",
      " 65  JUNCTIONTYPE_Unknown                                            187504 non-null  uint8  \n",
      "dtypes: float64(2), int32(13), uint8(51)\n",
      "memory usage: 22.7 MB\n"
     ]
    }
   ],
   "source": [
    "df_final = df2.copy()\n",
    "df_final.info(verbose=True)"
   ]
  },
  {
   "cell_type": "code",
   "execution_count": 20,
   "metadata": {},
   "outputs": [
    {
     "data": {
      "text/html": [
       "<div>\n",
       "<style scoped>\n",
       "    .dataframe tbody tr th:only-of-type {\n",
       "        vertical-align: middle;\n",
       "    }\n",
       "\n",
       "    .dataframe tbody tr th {\n",
       "        vertical-align: top;\n",
       "    }\n",
       "\n",
       "    .dataframe thead th {\n",
       "        text-align: right;\n",
       "    }\n",
       "</style>\n",
       "<table border=\"1\" class=\"dataframe\">\n",
       "  <thead>\n",
       "    <tr style=\"text-align: right;\">\n",
       "      <th></th>\n",
       "      <th>SEVERITYCODE</th>\n",
       "      <th>X</th>\n",
       "      <th>Y</th>\n",
       "      <th>PERSONCOUNT</th>\n",
       "      <th>PEDCOUNT</th>\n",
       "      <th>PEDCYLCOUNT</th>\n",
       "      <th>VEHCOUNT</th>\n",
       "      <th>INATTENTIONIND</th>\n",
       "      <th>UNDERINFL</th>\n",
       "      <th>PEDROWNOTGRNT</th>\n",
       "      <th>...</th>\n",
       "      <th>LIGHTCOND_Dusk</th>\n",
       "      <th>LIGHTCOND_Other</th>\n",
       "      <th>LIGHTCOND_Unknown</th>\n",
       "      <th>JUNCTIONTYPE_At Intersection (but not related to intersection)</th>\n",
       "      <th>JUNCTIONTYPE_At Intersection (intersection related)</th>\n",
       "      <th>JUNCTIONTYPE_Driveway Junction</th>\n",
       "      <th>JUNCTIONTYPE_Mid-Block (but intersection related)</th>\n",
       "      <th>JUNCTIONTYPE_Mid-Block (not related to intersection)</th>\n",
       "      <th>JUNCTIONTYPE_Ramp Junction</th>\n",
       "      <th>JUNCTIONTYPE_Unknown</th>\n",
       "    </tr>\n",
       "  </thead>\n",
       "  <tbody>\n",
       "    <tr>\n",
       "      <th>0</th>\n",
       "      <td>2</td>\n",
       "      <td>-122.323148</td>\n",
       "      <td>47.703140</td>\n",
       "      <td>2</td>\n",
       "      <td>0</td>\n",
       "      <td>0</td>\n",
       "      <td>2</td>\n",
       "      <td>0</td>\n",
       "      <td>0</td>\n",
       "      <td>0</td>\n",
       "      <td>...</td>\n",
       "      <td>0</td>\n",
       "      <td>0</td>\n",
       "      <td>0</td>\n",
       "      <td>0</td>\n",
       "      <td>1</td>\n",
       "      <td>0</td>\n",
       "      <td>0</td>\n",
       "      <td>0</td>\n",
       "      <td>0</td>\n",
       "      <td>0</td>\n",
       "    </tr>\n",
       "    <tr>\n",
       "      <th>1</th>\n",
       "      <td>1</td>\n",
       "      <td>-122.347294</td>\n",
       "      <td>47.647172</td>\n",
       "      <td>2</td>\n",
       "      <td>0</td>\n",
       "      <td>0</td>\n",
       "      <td>2</td>\n",
       "      <td>0</td>\n",
       "      <td>0</td>\n",
       "      <td>0</td>\n",
       "      <td>...</td>\n",
       "      <td>0</td>\n",
       "      <td>0</td>\n",
       "      <td>0</td>\n",
       "      <td>0</td>\n",
       "      <td>0</td>\n",
       "      <td>0</td>\n",
       "      <td>0</td>\n",
       "      <td>1</td>\n",
       "      <td>0</td>\n",
       "      <td>0</td>\n",
       "    </tr>\n",
       "    <tr>\n",
       "      <th>2</th>\n",
       "      <td>1</td>\n",
       "      <td>-122.334540</td>\n",
       "      <td>47.607871</td>\n",
       "      <td>4</td>\n",
       "      <td>0</td>\n",
       "      <td>0</td>\n",
       "      <td>3</td>\n",
       "      <td>0</td>\n",
       "      <td>0</td>\n",
       "      <td>0</td>\n",
       "      <td>...</td>\n",
       "      <td>0</td>\n",
       "      <td>0</td>\n",
       "      <td>0</td>\n",
       "      <td>0</td>\n",
       "      <td>0</td>\n",
       "      <td>0</td>\n",
       "      <td>0</td>\n",
       "      <td>1</td>\n",
       "      <td>0</td>\n",
       "      <td>0</td>\n",
       "    </tr>\n",
       "    <tr>\n",
       "      <th>3</th>\n",
       "      <td>1</td>\n",
       "      <td>-122.334803</td>\n",
       "      <td>47.604803</td>\n",
       "      <td>3</td>\n",
       "      <td>0</td>\n",
       "      <td>0</td>\n",
       "      <td>3</td>\n",
       "      <td>0</td>\n",
       "      <td>0</td>\n",
       "      <td>0</td>\n",
       "      <td>...</td>\n",
       "      <td>0</td>\n",
       "      <td>0</td>\n",
       "      <td>0</td>\n",
       "      <td>0</td>\n",
       "      <td>0</td>\n",
       "      <td>0</td>\n",
       "      <td>0</td>\n",
       "      <td>1</td>\n",
       "      <td>0</td>\n",
       "      <td>0</td>\n",
       "    </tr>\n",
       "    <tr>\n",
       "      <th>4</th>\n",
       "      <td>2</td>\n",
       "      <td>-122.306426</td>\n",
       "      <td>47.545739</td>\n",
       "      <td>2</td>\n",
       "      <td>0</td>\n",
       "      <td>0</td>\n",
       "      <td>2</td>\n",
       "      <td>0</td>\n",
       "      <td>0</td>\n",
       "      <td>0</td>\n",
       "      <td>...</td>\n",
       "      <td>0</td>\n",
       "      <td>0</td>\n",
       "      <td>0</td>\n",
       "      <td>0</td>\n",
       "      <td>1</td>\n",
       "      <td>0</td>\n",
       "      <td>0</td>\n",
       "      <td>0</td>\n",
       "      <td>0</td>\n",
       "      <td>0</td>\n",
       "    </tr>\n",
       "  </tbody>\n",
       "</table>\n",
       "<p>5 rows × 66 columns</p>\n",
       "</div>"
      ],
      "text/plain": [
       "   SEVERITYCODE           X          Y  PERSONCOUNT  PEDCOUNT  PEDCYLCOUNT  \\\n",
       "0             2 -122.323148  47.703140            2         0            0   \n",
       "1             1 -122.347294  47.647172            2         0            0   \n",
       "2             1 -122.334540  47.607871            4         0            0   \n",
       "3             1 -122.334803  47.604803            3         0            0   \n",
       "4             2 -122.306426  47.545739            2         0            0   \n",
       "\n",
       "   VEHCOUNT  INATTENTIONIND  UNDERINFL  PEDROWNOTGRNT  ...  LIGHTCOND_Dusk  \\\n",
       "0         2               0          0              0  ...               0   \n",
       "1         2               0          0              0  ...               0   \n",
       "2         3               0          0              0  ...               0   \n",
       "3         3               0          0              0  ...               0   \n",
       "4         2               0          0              0  ...               0   \n",
       "\n",
       "   LIGHTCOND_Other  LIGHTCOND_Unknown  \\\n",
       "0                0                  0   \n",
       "1                0                  0   \n",
       "2                0                  0   \n",
       "3                0                  0   \n",
       "4                0                  0   \n",
       "\n",
       "   JUNCTIONTYPE_At Intersection (but not related to intersection)  \\\n",
       "0                                                  0                \n",
       "1                                                  0                \n",
       "2                                                  0                \n",
       "3                                                  0                \n",
       "4                                                  0                \n",
       "\n",
       "   JUNCTIONTYPE_At Intersection (intersection related)  \\\n",
       "0                                                  1     \n",
       "1                                                  0     \n",
       "2                                                  0     \n",
       "3                                                  0     \n",
       "4                                                  1     \n",
       "\n",
       "   JUNCTIONTYPE_Driveway Junction  \\\n",
       "0                               0   \n",
       "1                               0   \n",
       "2                               0   \n",
       "3                               0   \n",
       "4                               0   \n",
       "\n",
       "   JUNCTIONTYPE_Mid-Block (but intersection related)  \\\n",
       "0                                                  0   \n",
       "1                                                  0   \n",
       "2                                                  0   \n",
       "3                                                  0   \n",
       "4                                                  0   \n",
       "\n",
       "   JUNCTIONTYPE_Mid-Block (not related to intersection)  \\\n",
       "0                                                  0      \n",
       "1                                                  1      \n",
       "2                                                  1      \n",
       "3                                                  1      \n",
       "4                                                  0      \n",
       "\n",
       "   JUNCTIONTYPE_Ramp Junction  JUNCTIONTYPE_Unknown  \n",
       "0                           0                     0  \n",
       "1                           0                     0  \n",
       "2                           0                     0  \n",
       "3                           0                     0  \n",
       "4                           0                     0  \n",
       "\n",
       "[5 rows x 66 columns]"
      ]
     },
     "execution_count": 20,
     "metadata": {},
     "output_type": "execute_result"
    }
   ],
   "source": [
    "df_final.head()"
   ]
  },
  {
   "cell_type": "markdown",
   "metadata": {},
   "source": [
    "**Feature Sets**"
   ]
  },
  {
   "cell_type": "code",
   "execution_count": 21,
   "metadata": {},
   "outputs": [
    {
     "name": "stdout",
     "output_type": "stream",
     "text": [
      "(187504, 65)\n",
      "(187504,)\n"
     ]
    }
   ],
   "source": [
    "X = df_final.drop(columns='SEVERITYCODE').values\n",
    "y = df_final['SEVERITYCODE'].values\n",
    "print(X.shape)\n",
    "print(y.shape)"
   ]
  },
  {
   "cell_type": "markdown",
   "metadata": {},
   "source": [
    "**Normalize Data**"
   ]
  },
  {
   "cell_type": "code",
   "execution_count": 22,
   "metadata": {
    "scrolled": true
   },
   "outputs": [
    {
     "data": {
      "text/plain": [
       "array([[-0.13458557,  0.14826999, -0.3408128 , -0.19081036, -0.17240283,\n",
       "         0.05267307, -0.43285729, -0.22541839, -0.15962643, -0.22799291,\n",
       "        -0.1916055 , -0.49105207, -1.04291264,  0.367763  , -0.06303151,\n",
       "        -1.38604602,  1.39831524,  1.51560664, -1.51560664,  2.10386502,\n",
       "        -0.17218516, -0.10412195, -0.28030339, -0.3779829 , -0.57573269,\n",
       "        -0.19084134, -0.46888759, -0.12612461, -0.33027904, -0.01616775,\n",
       "        -1.19781846, -0.05487846, -0.06504668,  2.40981083, -0.00516399,\n",
       "        -0.46189096, -0.01154765, -0.02444745, -0.06929292, -0.28468391,\n",
       "        -1.39288634, -0.07998669, -0.01847817, -0.02572464, -0.01973516,\n",
       "        -0.07292937, -0.024338  , -0.28411428,  1.72378901, -0.09055303,\n",
       "        -0.07971611, -0.58849366, -0.00765956, -0.11601052,  0.79049885,\n",
       "        -0.17932826, -0.03481535, -0.26836753, -0.10526734,  1.43648547,\n",
       "        -0.24379175, -0.36778577, -0.9265027 , -0.02922403, -0.15883413],\n",
       "       [-0.13607389,  0.13940812, -0.3408128 , -0.19081036, -0.17240283,\n",
       "         0.05267307, -0.43285729, -0.22541839, -0.15962643, -0.22799291,\n",
       "        -0.1916055 , -0.49105207,  1.58549859,  0.94455108, -0.06303151,\n",
       "         0.72147677, -0.71514632, -0.65980181,  0.65980181, -0.47531567,\n",
       "        -0.17218516, -0.10412195, -0.28030339, -0.3779829 , -0.57573269,\n",
       "        -0.19084134, -0.46888759, -0.12612461,  3.02774289, -0.01616775,\n",
       "        -1.19781846, -0.05487846, -0.06504668, -0.41497033, -0.00516399,\n",
       "         2.16501316, -0.01154765, -0.02444745, -0.06929292, -0.28468391,\n",
       "        -1.39288634, -0.07998669, -0.01847817, -0.02572464, -0.01973516,\n",
       "        -0.07292937, -0.024338  , -0.28411428,  1.72378901, -0.09055303,\n",
       "        -0.07971611,  1.69925364, -0.00765956, -0.11601052, -1.26502398,\n",
       "        -0.17932826, -0.03481535, -0.26836753, -0.10526734, -0.69614348,\n",
       "        -0.24379175, -0.36778577,  1.07932767, -0.02922403, -0.15883413],\n",
       "       [-0.13528773,  0.13318525,  1.12974361, -0.19081036, -0.17240283,\n",
       "         1.84025879, -0.43285729, -0.22541839, -0.15962643, -0.22799291,\n",
       "        -0.1916055 ,  0.02900615,  1.2934529 , -0.20902508, -0.06303151,\n",
       "         0.72147677, -0.71514632, -0.65980181,  0.65980181, -0.47531567,\n",
       "        -0.17218516, -0.10412195, -0.28030339, -0.3779829 ,  1.73691717,\n",
       "        -0.19084134, -0.46888759, -0.12612461, -0.33027904, -0.01616775,\n",
       "        -1.19781846, -0.05487846, -0.06504668,  2.40981083, -0.00516399,\n",
       "        -0.46189096, -0.01154765, -0.02444745, -0.06929292, -0.28468391,\n",
       "         0.71793367, -0.07998669, -0.01847817, -0.02572464, -0.01973516,\n",
       "        -0.07292937, -0.024338  , -0.28411428, -0.5801174 , -0.09055303,\n",
       "        -0.07971611, -0.58849366, -0.00765956, -0.11601052,  0.79049885,\n",
       "        -0.17932826, -0.03481535, -0.26836753, -0.10526734, -0.69614348,\n",
       "        -0.24379175, -0.36778577,  1.07932767, -0.02922403, -0.15883413],\n",
       "       [-0.13530396,  0.13269938,  0.3944654 , -0.19081036, -0.17240283,\n",
       "         1.84025879, -0.43285729, -0.22541839, -0.15962643, -0.22799291,\n",
       "        -0.1916055 ,  0.54906437, -1.04291264, -0.3532221 , -0.06303151,\n",
       "         0.72147677, -0.71514632, -0.65980181,  0.65980181, -0.47531567,\n",
       "        -0.17218516, -0.10412195, -0.28030339,  2.64562231, -0.57573269,\n",
       "        -0.19084134, -0.46888759, -0.12612461, -0.33027904, -0.01616775,\n",
       "         0.83485105, -0.05487846, -0.06504668, -0.41497033, -0.00516399,\n",
       "        -0.46189096, -0.01154765, -0.02444745, -0.06929292, -0.28468391,\n",
       "         0.71793367, -0.07998669, -0.01847817, -0.02572464, -0.01973516,\n",
       "        -0.07292937, -0.024338  , -0.28411428, -0.5801174 , -0.09055303,\n",
       "        -0.07971611, -0.58849366, -0.00765956, -0.11601052,  0.79049885,\n",
       "        -0.17932826, -0.03481535, -0.26836753, -0.10526734, -0.69614348,\n",
       "        -0.24379175, -0.36778577,  1.07932767, -0.02922403, -0.15883413],\n",
       "       [-0.13355484,  0.12334736, -0.3408128 , -0.19081036, -0.17240283,\n",
       "         0.05267307, -0.43285729, -0.22541839, -0.15962643, -0.22799291,\n",
       "        -0.1916055 , -0.49105207, -1.62700402, -0.49741912, -0.06303151,\n",
       "        -1.38604602,  1.39831524,  1.51560664, -1.51560664,  2.10386502,\n",
       "        -0.17218516, -0.10412195, -0.28030339, -0.3779829 , -0.57573269,\n",
       "        -0.19084134, -0.46888759, -0.12612461, -0.33027904, -0.01616775,\n",
       "        -1.19781846, -0.05487846, -0.06504668, -0.41497033, -0.00516399,\n",
       "         2.16501316, -0.01154765, -0.02444745, -0.06929292, -0.28468391,\n",
       "        -1.39288634, -0.07998669, -0.01847817, -0.02572464, -0.01973516,\n",
       "        -0.07292937, -0.024338  , -0.28411428,  1.72378901, -0.09055303,\n",
       "        -0.07971611, -0.58849366, -0.00765956, -0.11601052,  0.79049885,\n",
       "        -0.17932826, -0.03481535, -0.26836753, -0.10526734,  1.43648547,\n",
       "        -0.24379175, -0.36778577, -0.9265027 , -0.02922403, -0.15883413]])"
      ]
     },
     "execution_count": 22,
     "metadata": {},
     "output_type": "execute_result"
    }
   ],
   "source": [
    "X = preprocessing.StandardScaler().fit(X).transform(X.astype(float))\n",
    "X[0:5]"
   ]
  },
  {
   "cell_type": "markdown",
   "metadata": {},
   "source": [
    "**Train Test Split**"
   ]
  },
  {
   "cell_type": "code",
   "execution_count": 23,
   "metadata": {},
   "outputs": [
    {
     "name": "stdout",
     "output_type": "stream",
     "text": [
      "Train set: (150003, 65) (150003,)\n",
      "Test set: (37501, 65) (37501,)\n"
     ]
    }
   ],
   "source": [
    "from sklearn.model_selection import train_test_split\n",
    "X_train, X_test, y_train, y_test = train_test_split( X, y, test_size=0.2, random_state=4)\n",
    "print ('Train set:', X_train.shape,  y_train.shape)\n",
    "print ('Test set:', X_test.shape,  y_test.shape)"
   ]
  },
  {
   "cell_type": "markdown",
   "metadata": {},
   "source": [
    "## Classification Algorithms\n",
    "1. K-Nearest Neighbours (KNN)\n",
    "1. Logistic Regression"
   ]
  },
  {
   "cell_type": "markdown",
   "metadata": {},
   "source": [
    "<div class=\"alert alert-block alert-warning\">\n",
    "<b>K-Nearest Neighbours (KNN)</b>\n",
    "</div>"
   ]
  },
  {
   "cell_type": "code",
   "execution_count": 24,
   "metadata": {},
   "outputs": [
    {
     "data": {
      "text/plain": [
       "array([2, 1, 1, 1, 1])"
      ]
     },
     "execution_count": 24,
     "metadata": {},
     "output_type": "execute_result"
    }
   ],
   "source": [
    "from sklearn.neighbors import KNeighborsClassifier\n",
    "# Lets say k = 4 by now\n",
    "k = 4 \n",
    "neigh = KNeighborsClassifier(n_neighbors = k).fit(X_train,y_train)\n",
    "yhat = neigh.predict(X_test)\n",
    "yhat[0:5]"
   ]
  },
  {
   "cell_type": "code",
   "execution_count": 25,
   "metadata": {},
   "outputs": [
    {
     "name": "stdout",
     "output_type": "stream",
     "text": [
      "Train set Accuracy:  0.993406798530696\n",
      "Test set Accuracy:  0.9885603050585318\n"
     ]
    }
   ],
   "source": [
    "from sklearn import metrics\n",
    "print(\"Train set Accuracy: \", metrics.accuracy_score(y_train, neigh.predict(X_train)))\n",
    "print(\"Test set Accuracy: \", metrics.accuracy_score(y_test, yhat))"
   ]
  },
  {
   "cell_type": "code",
   "execution_count": 27,
   "metadata": {},
   "outputs": [
    {
     "name": "stdout",
     "output_type": "stream",
     "text": [
      "              precision    recall  f1-score   support\n",
      "\n",
      "           1       0.99      1.00      0.99     26196\n",
      "           2       1.00      0.97      0.98     11305\n",
      "\n",
      "    accuracy                           0.99     37501\n",
      "   macro avg       0.99      0.98      0.99     37501\n",
      "weighted avg       0.99      0.99      0.99     37501\n",
      "\n"
     ]
    }
   ],
   "source": [
    "from sklearn.metrics import confusion_matrix, classification_report\n",
    "cr=classification_report(y_test,yhat)\n",
    "print(cr)"
   ]
  },
  {
   "cell_type": "markdown",
   "metadata": {},
   "source": [
    "<div class=\"alert alert-block alert-warning\">\n",
    "<b>Logistic Regression</b>\n",
    "</div>"
   ]
  },
  {
   "cell_type": "code",
   "execution_count": null,
   "metadata": {},
   "outputs": [],
   "source": [
    "from sklearn.linear_model import LogisticRegression\n",
    "from sklearn.metrics import confusion_matrix\n",
    "LR = LogisticRegression(C=0.01, solver='liblinear').fit(X_train,y_train)"
   ]
  },
  {
   "cell_type": "code",
   "execution_count": null,
   "metadata": {},
   "outputs": [],
   "source": [
    "yhat = LR.predict(X_test)\n",
    "yhat"
   ]
  },
  {
   "cell_type": "code",
   "execution_count": null,
   "metadata": {},
   "outputs": [],
   "source": [
    "yhat_prob = LR.predict_proba(X_test)\n",
    "yhat_prob"
   ]
  },
  {
   "cell_type": "markdown",
   "metadata": {},
   "source": [
    "### Evaluation"
   ]
  },
  {
   "cell_type": "code",
   "execution_count": null,
   "metadata": {},
   "outputs": [],
   "source": [
    "from sklearn.metrics import jaccard_similarity_score\n",
    "jaccard_similarity_score(y_test, yhat)"
   ]
  },
  {
   "cell_type": "code",
   "execution_count": null,
   "metadata": {},
   "outputs": [],
   "source": [
    "from sklearn.metrics import classification_report, confusion_matrix\n",
    "import itertools\n",
    "def plot_confusion_matrix(cm, classes,\n",
    "                          normalize=False,\n",
    "                          title='Confusion matrix',\n",
    "                          cmap=plt.cm.Blues):\n",
    "    \"\"\"\n",
    "    This function prints and plots the confusion matrix.\n",
    "    Normalization can be applied by setting `normalize=True`.\n",
    "    \"\"\"\n",
    "    if normalize:\n",
    "        cm = cm.astype('float') / cm.sum(axis=1)[:, np.newaxis]\n",
    "        print(\"Normalized confusion matrix\")\n",
    "    else:\n",
    "        print('Confusion matrix, without normalization')\n",
    "\n",
    "    print(cm)\n",
    "\n",
    "    plt.imshow(cm, interpolation='nearest', cmap=cmap)\n",
    "    plt.title(title)\n",
    "    plt.colorbar()\n",
    "    tick_marks = np.arange(len(classes))\n",
    "    plt.xticks(tick_marks, classes, rotation=45)\n",
    "    plt.yticks(tick_marks, classes)\n",
    "\n",
    "    fmt = '.2f' if normalize else 'd'\n",
    "    thresh = cm.max() / 2.\n",
    "    for i, j in itertools.product(range(cm.shape[0]), range(cm.shape[1])):\n",
    "        plt.text(j, i, format(cm[i, j], fmt),\n",
    "                 horizontalalignment=\"center\",\n",
    "                 color=\"white\" if cm[i, j] > thresh else \"black\")\n",
    "\n",
    "    plt.tight_layout()\n",
    "    plt.ylabel('True label')\n",
    "    plt.xlabel('Predicted label')\n",
    "print(confusion_matrix(y_test, yhat, labels=[1,2]))"
   ]
  },
  {
   "cell_type": "code",
   "execution_count": null,
   "metadata": {},
   "outputs": [],
   "source": [
    "# Compute confusion matrix\n",
    "cnf_matrix = confusion_matrix(y_test, yhat, labels=[1,2])\n",
    "np.set_printoptions(precision=2)\n",
    "\n",
    "\n",
    "# Plot non-normalized confusion matrix\n",
    "plt.figure()\n",
    "plot_confusion_matrix(cnf_matrix, classes=['Prop Damage=1','Injury=2'],normalize= False,  title='Confusion matrix')"
   ]
  },
  {
   "cell_type": "code",
   "execution_count": null,
   "metadata": {
    "scrolled": true
   },
   "outputs": [],
   "source": [
    "print (classification_report(y_test, yhat))"
   ]
  },
  {
   "cell_type": "markdown",
   "metadata": {},
   "source": [
    "**Log Loss**"
   ]
  },
  {
   "cell_type": "code",
   "execution_count": null,
   "metadata": {},
   "outputs": [],
   "source": [
    "from sklearn.metrics import log_loss\n",
    "log_loss(y_test, yhat_prob)"
   ]
  },
  {
   "cell_type": "markdown",
   "metadata": {},
   "source": [
    "# Results and Discussion <a name=\"results\"></a>\n",
    "<hr style=\"border:2px solid gray\"> </hr>"
   ]
  },
  {
   "cell_type": "markdown",
   "metadata": {},
   "source": []
  },
  {
   "cell_type": "markdown",
   "metadata": {},
   "source": [
    "# Conclusion <a name=\"conclusion\"></a>\n",
    "<hr style=\"border:2px solid gray\"> </hr>"
   ]
  },
  {
   "cell_type": "markdown",
   "metadata": {},
   "source": []
  }
 ],
 "metadata": {
  "kernelspec": {
   "display_name": "Python 3",
   "language": "python",
   "name": "python3"
  },
  "language_info": {
   "codemirror_mode": {
    "name": "ipython",
    "version": 3
   },
   "file_extension": ".py",
   "mimetype": "text/x-python",
   "name": "python",
   "nbconvert_exporter": "python",
   "pygments_lexer": "ipython3",
   "version": "3.7.6"
  }
 },
 "nbformat": 4,
 "nbformat_minor": 4
}
